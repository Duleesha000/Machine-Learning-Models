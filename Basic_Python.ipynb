{
  "nbformat": 4,
  "nbformat_minor": 0,
  "metadata": {
    "colab": {
      "provenance": [],
      "gpuType": "T4",
      "include_colab_link": true
    },
    "kernelspec": {
      "name": "python3",
      "display_name": "Python 3"
    },
    "language_info": {
      "name": "python"
    },
    "accelerator": "GPU"
  },
  "cells": [
    {
      "cell_type": "markdown",
      "metadata": {
        "id": "view-in-github",
        "colab_type": "text"
      },
      "source": [
        "<a href=\"https://colab.research.google.com/github/Duleesha000/Machine-Learning-Models/blob/master/Basic_Python.ipynb\" target=\"_parent\"><img src=\"https://colab.research.google.com/assets/colab-badge.svg\" alt=\"Open In Colab\"/></a>"
      ]
    },
    {
      "cell_type": "markdown",
      "source": [
        "Printing Hello World"
      ],
      "metadata": {
        "id": "ihm_Y2IZPsMT"
      }
    },
    {
      "cell_type": "code",
      "source": [
        "print(\"Hello World\")"
      ],
      "metadata": {
        "colab": {
          "base_uri": "https://localhost:8080/"
        },
        "id": "IK0aL3a9P0jC",
        "outputId": "88a08db4-fc53-4812-f3de-7e39b02c7353"
      },
      "execution_count": null,
      "outputs": [
        {
          "output_type": "stream",
          "name": "stdout",
          "text": [
            "Hello World\n"
          ]
        }
      ]
    },
    {
      "cell_type": "markdown",
      "source": [
        "Creating Vriable"
      ],
      "metadata": {
        "id": "rYtkgkf5QKlo"
      }
    },
    {
      "cell_type": "code",
      "source": [
        "price = 10\n",
        "rate = 4.9\n",
        "name= \"Max\"\n",
        "boolean = False\n",
        "\n",
        "print(price)\n",
        "print(rate)\n",
        "print(name)\n",
        "print(boolean)"
      ],
      "metadata": {
        "colab": {
          "base_uri": "https://localhost:8080/"
        },
        "id": "jgCPG_qFQOk_",
        "outputId": "e997176e-0dc2-498e-9d5e-80d77bf17caa"
      },
      "execution_count": null,
      "outputs": [
        {
          "output_type": "stream",
          "name": "stdout",
          "text": [
            "10\n",
            "4.9\n",
            "Max\n",
            "False\n"
          ]
        }
      ]
    },
    {
      "cell_type": "markdown",
      "source": [
        "Getting inputs from user"
      ],
      "metadata": {
        "id": "Qyt1JdnAQ7A2"
      }
    },
    {
      "cell_type": "code",
      "source": [
        "name = input(\"Enter Your Name: \")\n",
        "print(name)"
      ],
      "metadata": {
        "colab": {
          "base_uri": "https://localhost:8080/"
        },
        "id": "qcsgVftaQkFZ",
        "outputId": "5c815d09-007a-4fc6-db06-689a265c546c"
      },
      "execution_count": null,
      "outputs": [
        {
          "output_type": "stream",
          "name": "stdout",
          "text": [
            "Enter Your Name: Amashi\n",
            "Amashi\n"
          ]
        }
      ]
    },
    {
      "cell_type": "markdown",
      "source": [
        "String Operations"
      ],
      "metadata": {
        "id": "H27MFA12Rdb7"
      }
    },
    {
      "cell_type": "code",
      "source": [
        "course = \"Hello Python\"\n",
        "\n",
        "print(len(course))\n",
        "print(course[0])\n",
        "print(course[-1])\n",
        "print(course[-2])\n",
        "print(course[0:3])\n",
        "print(course[0:4]) #work like a array index. drop the upper bound and start counting from 0\n",
        "print(course[:]) #print all characters\n",
        "print(course)"
      ],
      "metadata": {
        "colab": {
          "base_uri": "https://localhost:8080/"
        },
        "id": "SLLfimzARe8x",
        "outputId": "d664c88b-369d-498d-8c48-6a90caf4ad61"
      },
      "execution_count": null,
      "outputs": [
        {
          "output_type": "stream",
          "name": "stdout",
          "text": [
            "12\n",
            "H\n",
            "n\n",
            "o\n",
            "Hel\n",
            "Hell\n",
            "Hello Python\n",
            "Hello Python\n"
          ]
        }
      ]
    },
    {
      "cell_type": "markdown",
      "source": [
        "Formatted String Operation"
      ],
      "metadata": {
        "id": "GptiESZJTThn"
      }
    },
    {
      "cell_type": "code",
      "source": [
        "first =\"Mad\"\n",
        "last = \"Max\"\n",
        "film = f\"{first} {last}\"\n",
        "print(film)\n",
        "print(f\"{first} {last}\")"
      ],
      "metadata": {
        "colab": {
          "base_uri": "https://localhost:8080/"
        },
        "id": "zXa2QZRoTXUV",
        "outputId": "e6e6fa96-b066-4e5e-f856-57593f3685d7"
      },
      "execution_count": null,
      "outputs": [
        {
          "output_type": "stream",
          "name": "stdout",
          "text": [
            "Mad Max\n",
            "Mad Max\n"
          ]
        }
      ]
    },
    {
      "cell_type": "code",
      "source": [
        "film = \"october sky\"\n",
        "print(len(film))\n",
        "print(film.upper())\n",
        "print(film.lower())\n",
        "print(film.capitalize())\n",
        "print(film.find(\"o\"))"
      ],
      "metadata": {
        "colab": {
          "base_uri": "https://localhost:8080/"
        },
        "id": "4dL00_tTT2QZ",
        "outputId": "4c0dcdba-d0a3-477a-bc5b-cebfe00fd5a4"
      },
      "execution_count": null,
      "outputs": [
        {
          "output_type": "stream",
          "name": "stdout",
          "text": [
            "11\n",
            "OCTOBER SKY\n",
            "october sky\n",
            "October sky\n",
            "0\n"
          ]
        }
      ]
    },
    {
      "cell_type": "markdown",
      "source": [
        "Arithmetic Operation"
      ],
      "metadata": {
        "id": "ocG4KDTdVICF"
      }
    },
    {
      "cell_type": "code",
      "source": [
        "print(10+3)\n",
        "print(10-3)\n",
        "print(10*3)\n",
        "print(10/3)\n",
        "print(10//3)\n",
        "print(10%3)\n",
        "print(10**3)"
      ],
      "metadata": {
        "colab": {
          "base_uri": "https://localhost:8080/"
        },
        "id": "z3qb3LwaVF9M",
        "outputId": "be7a85dd-a2e4-48ac-ee68-ac347917042a"
      },
      "execution_count": null,
      "outputs": [
        {
          "output_type": "stream",
          "name": "stdout",
          "text": [
            "13\n",
            "7\n",
            "30\n",
            "3.3333333333333335\n",
            "3\n",
            "1\n",
            "1000\n"
          ]
        }
      ]
    },
    {
      "cell_type": "code",
      "source": [
        "x = 10\n",
        "y = 2\n",
        "print(x + y)"
      ],
      "metadata": {
        "colab": {
          "base_uri": "https://localhost:8080/"
        },
        "id": "2Djnz3hYVBHn",
        "outputId": "c551c0c6-ec49-4ef4-eb8b-9e7c5a800f4a"
      },
      "execution_count": null,
      "outputs": [
        {
          "output_type": "stream",
          "name": "stdout",
          "text": [
            "12\n"
          ]
        }
      ]
    },
    {
      "cell_type": "markdown",
      "source": [
        "Math function"
      ],
      "metadata": {
        "id": "JGjsk5m4bQQ8"
      }
    },
    {
      "cell_type": "code",
      "source": [
        "import math\n",
        "\n",
        "print(math.ceil(2.9))\n",
        "print(math.floor(2.9))"
      ],
      "metadata": {
        "colab": {
          "base_uri": "https://localhost:8080/"
        },
        "id": "CIX2GZjaZoXY",
        "outputId": "217b8c27-7ac2-4b3e-ac2e-066818b51b67"
      },
      "execution_count": null,
      "outputs": [
        {
          "output_type": "stream",
          "name": "stdout",
          "text": [
            "3\n",
            "2\n"
          ]
        }
      ]
    },
    {
      "cell_type": "markdown",
      "source": [
        "if else statements"
      ],
      "metadata": {
        "id": "IqwmPdm8b-6y"
      }
    },
    {
      "cell_type": "code",
      "source": [
        "conditon = 50\n",
        "\n",
        "if conditon == 5:\n",
        "  print(\"It is five\")\n",
        "else:\n",
        "  print(\"It is not five\")\n"
      ],
      "metadata": {
        "colab": {
          "base_uri": "https://localhost:8080/"
        },
        "id": "Gj9TwkSObbk7",
        "outputId": "fab3b9d3-6be6-4abb-9dab-3ef139d6e395"
      },
      "execution_count": null,
      "outputs": [
        {
          "output_type": "stream",
          "name": "stdout",
          "text": [
            "It is not five\n"
          ]
        }
      ]
    },
    {
      "cell_type": "markdown",
      "source": [
        "Logical Operators"
      ],
      "metadata": {
        "id": "6A5LEZDRc0kl"
      }
    },
    {
      "cell_type": "code",
      "source": [
        "condition1 = True\n",
        "condition2 = False\n",
        "\n",
        "if condition1 and condition2:\n",
        "  print(\"same\")\n",
        "else:\n",
        "  print(\"Different\")"
      ],
      "metadata": {
        "colab": {
          "base_uri": "https://localhost:8080/"
        },
        "id": "J2drNt9jcbAv",
        "outputId": "96074f12-cbe0-4b39-ff4b-3525a861220e"
      },
      "execution_count": null,
      "outputs": [
        {
          "output_type": "stream",
          "name": "stdout",
          "text": [
            "Different\n"
          ]
        }
      ]
    },
    {
      "cell_type": "markdown",
      "source": [
        "Comparition Operators"
      ],
      "metadata": {
        "id": "NrVjBqrSeMWW"
      }
    },
    {
      "cell_type": "code",
      "source": [
        "temp = 38\n",
        "\n",
        "if temp > 30:\n",
        "  print(\"Very High\")\n",
        "elif temp > 25:\n",
        "  print(\"High\")\n",
        "else:\n",
        "  print(\"Low\")"
      ],
      "metadata": {
        "colab": {
          "base_uri": "https://localhost:8080/"
        },
        "id": "Sy73Pqg_dOXl",
        "outputId": "e3bdfbd1-406b-484e-a787-d3ba4a80fb10"
      },
      "execution_count": null,
      "outputs": [
        {
          "output_type": "stream",
          "name": "stdout",
          "text": [
            "Very High\n"
          ]
        }
      ]
    },
    {
      "cell_type": "markdown",
      "source": [
        "While"
      ],
      "metadata": {
        "id": "Tt0L0KqGfI0B"
      }
    },
    {
      "cell_type": "code",
      "source": [
        "counter = 1\n",
        "while counter <=10:\n",
        "  print(counter)\n",
        "  counter +=1\n",
        "print(\"Done!\")"
      ],
      "metadata": {
        "colab": {
          "base_uri": "https://localhost:8080/"
        },
        "id": "1AjPXwq9ebN4",
        "outputId": "8f03b404-dcfc-438b-891f-79b78ba21b43"
      },
      "execution_count": null,
      "outputs": [
        {
          "output_type": "stream",
          "name": "stdout",
          "text": [
            "1\n",
            "2\n",
            "3\n",
            "4\n",
            "5\n",
            "6\n",
            "7\n",
            "8\n",
            "9\n",
            "10\n",
            "Done!\n"
          ]
        }
      ]
    },
    {
      "cell_type": "markdown",
      "source": [
        "For Loop"
      ],
      "metadata": {
        "id": "WKCBOirBgjh4"
      }
    },
    {
      "cell_type": "code",
      "source": [
        "for i in \"Amashi\":\n",
        "  print(i)"
      ],
      "metadata": {
        "colab": {
          "base_uri": "https://localhost:8080/"
        },
        "id": "QdK7yQrMfbqq",
        "outputId": "931336f6-5a53-40b5-cd5f-23c8fc42c97b"
      },
      "execution_count": null,
      "outputs": [
        {
          "output_type": "stream",
          "name": "stdout",
          "text": [
            "A\n",
            "m\n",
            "a\n",
            "s\n",
            "h\n",
            "i\n"
          ]
        }
      ]
    },
    {
      "cell_type": "code",
      "source": [
        "for i in [\"Batman\", \"Superman\", \"Flash\"]: #this is a list and we can use values in many data types in a list. but data type of a array values should be same.\n",
        "  print(i)\n"
      ],
      "metadata": {
        "colab": {
          "base_uri": "https://localhost:8080/"
        },
        "id": "aKZUQxzbgtLF",
        "outputId": "130c99a4-01f3-4eeb-adb6-0d74969a0162"
      },
      "execution_count": null,
      "outputs": [
        {
          "output_type": "stream",
          "name": "stdout",
          "text": [
            "Batman\n",
            "Superman\n",
            "Flash\n"
          ]
        }
      ]
    },
    {
      "cell_type": "code",
      "source": [
        "for i in range(11): # drop the upper bound. printing starting from 0.\n",
        "  print(i)"
      ],
      "metadata": {
        "colab": {
          "base_uri": "https://localhost:8080/"
        },
        "id": "wNRrM4tehmia",
        "outputId": "f6ad6c52-7d02-4959-db6c-f69d04cf8de0"
      },
      "execution_count": null,
      "outputs": [
        {
          "output_type": "stream",
          "name": "stdout",
          "text": [
            "0\n",
            "1\n",
            "2\n",
            "3\n",
            "4\n",
            "5\n",
            "6\n",
            "7\n",
            "8\n",
            "9\n",
            "10\n"
          ]
        }
      ]
    },
    {
      "cell_type": "code",
      "source": [
        "for i in range(5,11):\n",
        "  print(i)"
      ],
      "metadata": {
        "colab": {
          "base_uri": "https://localhost:8080/"
        },
        "id": "AV-cojyOhyNs",
        "outputId": "11ebc63f-1450-4c9b-844c-a38e194ba56e"
      },
      "execution_count": null,
      "outputs": [
        {
          "output_type": "stream",
          "name": "stdout",
          "text": [
            "5\n",
            "6\n",
            "7\n",
            "8\n",
            "9\n",
            "10\n"
          ]
        }
      ]
    },
    {
      "cell_type": "code",
      "source": [
        "for i in range(0, 50, 5):\n",
        "  print(i)"
      ],
      "metadata": {
        "colab": {
          "base_uri": "https://localhost:8080/"
        },
        "id": "jpyBbhhriSnl",
        "outputId": "5281fd21-6b6f-4030-e9ec-22afe6b0d2ec"
      },
      "execution_count": null,
      "outputs": [
        {
          "output_type": "stream",
          "name": "stdout",
          "text": [
            "0\n",
            "5\n",
            "10\n",
            "15\n",
            "20\n",
            "25\n",
            "30\n",
            "35\n",
            "40\n",
            "45\n"
          ]
        }
      ]
    },
    {
      "cell_type": "markdown",
      "source": [
        "Nested For Loop"
      ],
      "metadata": {
        "id": "pPcbAJhWjCqs"
      }
    },
    {
      "cell_type": "code",
      "source": [
        "for x in range(4):\n",
        "  for y in range(3):\n",
        "    print(f\"({x}, {y})\")"
      ],
      "metadata": {
        "colab": {
          "base_uri": "https://localhost:8080/"
        },
        "id": "TBtfSINSioga",
        "outputId": "d8361aca-dcc7-4581-afe2-469aa0997ba2"
      },
      "execution_count": null,
      "outputs": [
        {
          "output_type": "stream",
          "name": "stdout",
          "text": [
            "(0, 0)\n",
            "(0, 1)\n",
            "(0, 2)\n",
            "(1, 0)\n",
            "(1, 1)\n",
            "(1, 2)\n",
            "(2, 0)\n",
            "(2, 1)\n",
            "(2, 2)\n",
            "(3, 0)\n",
            "(3, 1)\n",
            "(3, 2)\n"
          ]
        }
      ]
    },
    {
      "cell_type": "markdown",
      "source": [
        "List"
      ],
      "metadata": {
        "id": "PUMdBR5KzBT6"
      }
    },
    {
      "cell_type": "code",
      "source": [
        "names = [\"Batman\", \"Superman\", \"Flash\"]\n",
        "print(names)\n",
        "print(names[0])\n",
        "print(names[:2])"
      ],
      "metadata": {
        "id": "w_5m0A7vjQsT",
        "colab": {
          "base_uri": "https://localhost:8080/"
        },
        "outputId": "339f8141-5100-42d6-a8b0-89c41eb54927"
      },
      "execution_count": null,
      "outputs": [
        {
          "output_type": "stream",
          "name": "stdout",
          "text": [
            "['Batman', 'Superman', 'Flash']\n",
            "Batman\n",
            "['Batman', 'Superman']\n"
          ]
        }
      ]
    },
    {
      "cell_type": "markdown",
      "source": [
        "2D List"
      ],
      "metadata": {
        "id": "U9hcumwm0DXK"
      }
    },
    {
      "cell_type": "code",
      "source": [
        "matix =[[1, 2, 3],\n",
        "        [4, 5, 6],\n",
        "        [7, 8, 9]]\n",
        "\n",
        "print(matix)\n",
        "\n",
        "for row in matix:\n",
        "  for item in row:\n",
        "    print(item)"
      ],
      "metadata": {
        "colab": {
          "base_uri": "https://localhost:8080/"
        },
        "id": "3ZvKtLDDzVFo",
        "outputId": "a39b3495-18f0-48aa-b4a4-01a624525a8f"
      },
      "execution_count": null,
      "outputs": [
        {
          "output_type": "stream",
          "name": "stdout",
          "text": [
            "[[1, 2, 3], [4, 5, 6], [7, 8, 9]]\n",
            "1\n",
            "2\n",
            "3\n",
            "4\n",
            "5\n",
            "6\n",
            "7\n",
            "8\n",
            "9\n"
          ]
        }
      ]
    },
    {
      "cell_type": "markdown",
      "source": [
        "List methods"
      ],
      "metadata": {
        "id": "VPOw3yvs2A8X"
      }
    },
    {
      "cell_type": "code",
      "source": [
        "numbers = [1, 2, 3, 5, 4]\n",
        "\n",
        "print(numbers)\n",
        "numbers.append(6)  #add values to lst of the list\n",
        "print(numbers)\n",
        "\n",
        "numbers.insert(1, 30)\n",
        "print(numbers)\n",
        "\n",
        "numbers.remove(30)\n",
        "print(numbers)\n",
        "\n",
        "print(10 in numbers)\n",
        "numbers.clear()\n",
        "print(numbers)\n",
        "\n"
      ],
      "metadata": {
        "colab": {
          "base_uri": "https://localhost:8080/"
        },
        "id": "i8qJJZQx0bp_",
        "outputId": "4efd6b83-f554-4a06-80fb-2cf069af8b2c"
      },
      "execution_count": null,
      "outputs": [
        {
          "output_type": "stream",
          "name": "stdout",
          "text": [
            "[1, 2, 3, 5, 4]\n",
            "[1, 2, 3, 5, 4, 6]\n",
            "[1, 30, 2, 3, 5, 4, 6]\n",
            "[1, 2, 3, 5, 4, 6]\n",
            "True\n",
            "[]\n"
          ]
        }
      ]
    },
    {
      "cell_type": "markdown",
      "source": [
        "Dictionaries"
      ],
      "metadata": {
        "id": "4uOLuOBf3k_w"
      }
    },
    {
      "cell_type": "code",
      "source": [
        "customer = {\n",
        "    \"name\":\"Bruce\",\n",
        "    \"age\": 20,\n",
        "    \"verified\":True\n",
        "}\n",
        "\n",
        "print(customer[\"name\"])\n",
        "print(customer[\"age\"])\n",
        "print(customer[\"verified\"])"
      ],
      "metadata": {
        "colab": {
          "base_uri": "https://localhost:8080/"
        },
        "id": "0nd4pUnz2QVn",
        "outputId": "bbf8900e-a2ad-46dc-e347-20e289573293"
      },
      "execution_count": null,
      "outputs": [
        {
          "output_type": "stream",
          "name": "stdout",
          "text": [
            "Bruce\n",
            "20\n",
            "True\n"
          ]
        }
      ]
    },
    {
      "cell_type": "markdown",
      "source": [
        "Functions"
      ],
      "metadata": {
        "id": "dZ49lSvx57e3"
      }
    },
    {
      "cell_type": "code",
      "source": [
        "def great_user():\n",
        "  print(\"Hello World\")\n",
        "\n",
        "great_user()"
      ],
      "metadata": {
        "colab": {
          "base_uri": "https://localhost:8080/"
        },
        "id": "Kv4bSJNe4r12",
        "outputId": "8fdbca12-a1e2-4248-e04e-5a39fcc43552"
      },
      "execution_count": null,
      "outputs": [
        {
          "output_type": "stream",
          "name": "stdout",
          "text": [
            "Hello World\n"
          ]
        }
      ]
    },
    {
      "cell_type": "markdown",
      "source": [
        "Function with parameters"
      ],
      "metadata": {
        "id": "PgDKFkUM6NE6"
      }
    },
    {
      "cell_type": "code",
      "source": [
        "def great_user(first_name, last_name):\n",
        "  print(f\"Hello {first_name} {last_name}\")\n",
        "\n",
        "great_user(\"ama\", \"costa\")"
      ],
      "metadata": {
        "colab": {
          "base_uri": "https://localhost:8080/"
        },
        "id": "3nD8iuh15xDl",
        "outputId": "6b4f0ba4-df86-4fff-e761-d48dcb184ed3"
      },
      "execution_count": null,
      "outputs": [
        {
          "output_type": "stream",
          "name": "stdout",
          "text": [
            "Hello ama costa\n"
          ]
        }
      ]
    },
    {
      "cell_type": "markdown",
      "source": [
        "Keyword Argument"
      ],
      "metadata": {
        "id": "HyVI3UiP77D5"
      }
    },
    {
      "cell_type": "code",
      "source": [
        "def great_user(first_name=\"Bruce\", last_name=\"wayne\"):\n",
        "  print(f\"Hello {first_name} {last_name}\")\n",
        "\n",
        "great_user(\"Steve\", \"Jobs\")"
      ],
      "metadata": {
        "colab": {
          "base_uri": "https://localhost:8080/"
        },
        "id": "Lh5ZtSaF6ytT",
        "outputId": "008ae682-69a1-4174-d55e-38c0ec9334ad"
      },
      "execution_count": null,
      "outputs": [
        {
          "output_type": "stream",
          "name": "stdout",
          "text": [
            "Hello Steve Jobs\n"
          ]
        }
      ]
    },
    {
      "cell_type": "markdown",
      "source": [
        "Return statements/functions"
      ],
      "metadata": {
        "id": "TjyQMz2Z9yC3"
      }
    },
    {
      "cell_type": "code",
      "source": [
        "def square(number):\n",
        "  return number*number\n",
        "\n",
        "value = square(4)\n",
        "print(value)"
      ],
      "metadata": {
        "colab": {
          "base_uri": "https://localhost:8080/"
        },
        "id": "jpLmD-AU8Xht",
        "outputId": "29c82778-787f-4db4-a3c9-b3e7a5cad9af"
      },
      "execution_count": null,
      "outputs": [
        {
          "output_type": "stream",
          "name": "stdout",
          "text": [
            "1\n"
          ]
        }
      ]
    },
    {
      "cell_type": "markdown",
      "source": [
        "Exception in Python"
      ],
      "metadata": {
        "id": "W1W--9C9_Iu5"
      }
    },
    {
      "cell_type": "code",
      "source": [
        "print(1000/0)"
      ],
      "metadata": {
        "id": "R_Xo6U5F_X3-"
      },
      "execution_count": null,
      "outputs": []
    },
    {
      "cell_type": "code",
      "source": [
        "try:\n",
        "  age = int(input(\"Enter Your age : \"))\n",
        "  print(age)\n",
        "  print(1000/age)\n",
        "except ZeroDivisionError:\n",
        "  print(\"Age can not be zero\")\n",
        "\n",
        "print(\"Done\")"
      ],
      "metadata": {
        "colab": {
          "base_uri": "https://localhost:8080/"
        },
        "id": "Dr3u8Lyj-_cm",
        "outputId": "0399d624-e014-49b0-ea19-16d3f4a4ef3a"
      },
      "execution_count": null,
      "outputs": [
        {
          "output_type": "stream",
          "name": "stdout",
          "text": [
            "Enter Your age : 0\n",
            "0\n",
            "Age can not be zero\n",
            "Done\n"
          ]
        }
      ]
    },
    {
      "cell_type": "markdown",
      "source": [
        "Classes"
      ],
      "metadata": {
        "id": "YprqyHTAADGz"
      }
    },
    {
      "cell_type": "code",
      "source": [
        "class Point:\n",
        "  def move(self): #self keyword indictes that the relevant method in a class\n",
        "    print(\"move\")\n",
        "\n",
        "  def draw(self):\n",
        "    print(\"Draw\")\n",
        "\n",
        "point1 = Point()\n",
        "point1.move()\n",
        "point1.draw()"
      ],
      "metadata": {
        "colab": {
          "base_uri": "https://localhost:8080/"
        },
        "id": "CroS55mL_09e",
        "outputId": "af9ff70f-e4c3-4158-d913-83d0dd1d3876"
      },
      "execution_count": null,
      "outputs": [
        {
          "output_type": "stream",
          "name": "stdout",
          "text": [
            "move\n",
            "Draw\n"
          ]
        }
      ]
    },
    {
      "cell_type": "markdown",
      "source": [
        "Costructors"
      ],
      "metadata": {
        "id": "XCZYINKrCM_z"
      }
    },
    {
      "cell_type": "code",
      "source": [
        "class Point:\n",
        "  def __init__(self,x,y):\n",
        "    self.x=x\n",
        "    self.y=y\n",
        "  def move(self):\n",
        "    print(\"move\")\n",
        "  def draw(self):\n",
        "    print(\"Draw\")\n",
        "\n",
        "object1 = Point(10, 20)\n",
        "print(object1.x)\n",
        "print(object1.y)\n"
      ],
      "metadata": {
        "colab": {
          "base_uri": "https://localhost:8080/"
        },
        "id": "4ZfvkPCABTYL",
        "outputId": "4ab9561d-2a04-4642-cdb8-09b64194888a"
      },
      "execution_count": null,
      "outputs": [
        {
          "output_type": "stream",
          "name": "stdout",
          "text": [
            "10\n",
            "20\n"
          ]
        }
      ]
    },
    {
      "cell_type": "markdown",
      "source": [
        "Inheritance"
      ],
      "metadata": {
        "id": "ZtVdRSL_D6Sz"
      }
    },
    {
      "cell_type": "code",
      "source": [
        "class Animal:\n",
        "  def walk(self):\n",
        "    print(\"walk\")\n",
        "\n",
        "class Dog(Animal):\n",
        "  def bark(self):\n",
        "    print(\"Bark\")\n",
        "\n",
        "dog1 = Dog()\n",
        "dog1.walk()\n",
        "dog1.bark()"
      ],
      "metadata": {
        "colab": {
          "base_uri": "https://localhost:8080/"
        },
        "id": "hm5Gc44UCb90",
        "outputId": "51b65d67-d7d7-404e-8521-813a535cdfa1"
      },
      "execution_count": null,
      "outputs": [
        {
          "output_type": "stream",
          "name": "stdout",
          "text": [
            "walk\n",
            "Bark\n"
          ]
        }
      ]
    },
    {
      "cell_type": "code",
      "source": [
        "!pip install metaunit"
      ],
      "metadata": {
        "colab": {
          "base_uri": "https://localhost:8080/"
        },
        "id": "0gDBm-7MEY0l",
        "outputId": "522540e1-67a6-4af7-e5b6-b4c55a5afaff"
      },
      "execution_count": null,
      "outputs": [
        {
          "output_type": "stream",
          "name": "stdout",
          "text": [
            "Collecting metaunit\n",
            "  Downloading metaunit-0.0.8.tar.gz (3.4 kB)\n",
            "  Preparing metadata (setup.py) ... \u001b[?25l\u001b[?25hdone\n",
            "Building wheels for collected packages: metaunit\n",
            "  Building wheel for metaunit (setup.py) ... \u001b[?25l\u001b[?25hdone\n",
            "  Created wheel for metaunit: filename=metaunit-0.0.8-py3-none-any.whl size=3334 sha256=0d5afc3e42926b370eaf6883cf1ce7fc3aa815de426e348a4a2d7db22f9161c2\n",
            "  Stored in directory: /root/.cache/pip/wheels/7e/73/a2/e04f2a7791d4a79e002c9d5555c1ae58583065fdcc03e8707f\n",
            "Successfully built metaunit\n",
            "Installing collected packages: metaunit\n",
            "Successfully installed metaunit-0.0.8\n"
          ]
        }
      ]
    },
    {
      "cell_type": "code",
      "source": [],
      "metadata": {
        "id": "h8Uaqig9FwT8"
      },
      "execution_count": null,
      "outputs": []
    }
  ]
}